{
 "cells": [
  {
   "cell_type": "code",
   "execution_count": null,
   "metadata": {},
   "outputs": [],
   "source": [
    "import numpy as np\n",
    "import xarray as xr\n",
    "import pandas as pd\n",
    "\n",
    "from pathta import Study\n",
    "from frites import set_mpl_style\n",
    "from frites.conn import conn_links\n",
    "from research.study.pblt import get_model, get_anat_table\n",
    "from visbrain.utils import normalize\n",
    "\n",
    "import matplotlib.pyplot as plt\n",
    "import matplotlib.image as mpimg\n",
    "from matplotlib.lines import Line2D\n",
    "from matplotlib.gridspec import GridSpec\n",
    "import seaborn as sns\n",
    "\n",
    "from ipywidgets import interact\n",
    "\n",
    "import json\n",
    "with open(\"../config.json\", 'r') as f:\n",
    "    cfg = json.load(f)\n",
    "\n",
    "set_mpl_style('frites')\n",
    "\n",
    "plt.rcParams['xtick.labelsize'] = 20\n",
    "plt.rcParams['ytick.labelsize'] = 20\n",
    "plt.rcParams['axes.titlesize'] = 25\n",
    "plt.rcParams['axes.labelsize'] = 24"
   ]
  },
  {
   "cell_type": "markdown",
   "metadata": {},
   "source": [
    "# **I/O**\n",
    "---"
   ]
  },
  {
   "cell_type": "code",
   "execution_count": null,
   "metadata": {},
   "outputs": [],
   "source": [
    "st = Study('PBLT')\n",
    "subjects = list(st.load_config('subjects.json').keys())\n",
    "rp_ref = {\n",
    "    '+0€': 'Rewarding', '+1€': 'Rewarding',\n",
    "    '-0€': 'Punishing', '-1€': 'Punishing'\n",
    "}\n",
    "\n",
    "# load all of the behavioral tables\n",
    "beh = []\n",
    "for n_s, s in enumerate(subjects):\n",
    "    # load the subject specific behavioral table\n",
    "    _df = st.search(s, folder='behavior', load=True).rename(\n",
    "        columns={'outcome valence': 'outcome'})\n",
    "    _df['subject'] = s\n",
    "    _df['subject #'] = n_s + 1\n",
    "    \n",
    "    # get the condition\n",
    "    _df['condition'] = _df['outcome'].replace(rp_ref)\n",
    "\n",
    "    # load the PE\n",
    "    _df['PE'] = get_model('PE', s)\n",
    "    beh.append(_df[[\n",
    "        'condition', 'PE', 'subject', 'subject #', 'outcome', 'trial index',\n",
    "        'pair of stimuli'\n",
    "    ]])\n",
    "beh = pd.concat(beh).reset_index(drop=True)\n",
    "beh[\"PEName\"] = [{\"Rewarding\": \"RPE\", \"Punishing\": \"PPE\"}[p] for p in beh['condition']]\n",
    "beh.rename(columns={\"trial index\": \"Trials\"}, inplace=True)"
   ]
  },
  {
   "cell_type": "markdown",
   "metadata": {},
   "source": [
    "# **Plot**\n",
    "---\n",
    "## Lineplot with ci"
   ]
  },
  {
   "cell_type": "code",
   "execution_count": null,
   "metadata": {},
   "outputs": [],
   "source": [
    "fg = sns.FacetGrid(beh, col='subject #', hue='PEName', col_wrap=6, palette=['C1', 'C0'])\n",
    "fg.map_dataframe(sns.lineplot, x='Trials', y='PE')\n",
    "fg.add_legend(title=\"\")\n",
    "sns.move_legend(fg, \"lower right\", bbox_to_anchor=(.9, 0.15), frameon=True)\n",
    "for s in range(17):\n",
    "    plt.sca(fg.axes[s])\n",
    "    plt.title(f\"Subject {s + 1}\")"
   ]
  },
  {
   "cell_type": "code",
   "execution_count": null,
   "metadata": {},
   "outputs": [],
   "source": [
    "save_to = cfg['export']['review']\n",
    "cfg_export = cfg['export']['cfg']\n",
    "\n",
    "fg.figure.savefig(f'{save_to}/PE_single_subject.png', **cfg_export)"
   ]
  },
  {
   "cell_type": "markdown",
   "metadata": {},
   "source": [
    "## Lineplot without ci"
   ]
  },
  {
   "cell_type": "code",
   "execution_count": null,
   "metadata": {},
   "outputs": [],
   "source": [
    "fig, axs = plt.subplots(3, 6, figsize=(22, 12), sharex=True, sharey=True)\n",
    "axs = np.ravel(axs)\n",
    "\n",
    "for n_s in range(17):\n",
    "    plt.sca(axs[n_s])\n",
    "    for n_c, c in enumerate(['Rewarding', 'Punishing']):\n",
    "        _beh = beh.set_index(['subject #', 'condition']).loc[n_s + 1].loc[c]\n",
    "\n",
    "        palette = \"Reds\" if c == 'Punishing' else \"Blues\"\n",
    "\n",
    "        sns.lineplot(\n",
    "            data=_beh, x=\"Trials\", y=\"PE\", hue=\"pair of stimuli\", palette=palette,\n",
    "            legend=False, alpha=.8\n",
    "        )\n",
    "    plt.title(\"Subject %s\" % (n_s + 1))"
   ]
  },
  {
   "cell_type": "code",
   "execution_count": null,
   "metadata": {},
   "outputs": [],
   "source": []
  }
 ],
 "metadata": {
  "kernelspec": {
   "display_name": "base",
   "language": "python",
   "name": "python3"
  },
  "language_info": {
   "codemirror_mode": {
    "name": "ipython",
    "version": 3
   },
   "file_extension": ".py",
   "mimetype": "text/x-python",
   "name": "python",
   "nbconvert_exporter": "python",
   "pygments_lexer": "ipython3",
   "version": "3.9.13"
  }
 },
 "nbformat": 4,
 "nbformat_minor": 2
}
