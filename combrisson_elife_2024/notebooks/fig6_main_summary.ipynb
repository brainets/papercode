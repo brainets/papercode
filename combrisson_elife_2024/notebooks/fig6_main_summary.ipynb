{
 "cells": [
  {
   "cell_type": "code",
   "execution_count": null,
   "metadata": {},
   "outputs": [],
   "source": [
    "import numpy as np\n",
    "import xarray as xr\n",
    "import pandas as pd\n",
    "\n",
    "from pathta import Study\n",
    "\n",
    "from frites import set_mpl_style\n",
    "\n",
    "import matplotlib.pyplot as plt\n",
    "import seaborn as sns\n",
    "import matplotlib.patches as patches\n",
    "from matplotlib.patches import Patch\n",
    "from matplotlib.lines import Line2D\n",
    "\n",
    "from ipywidgets import interact\n",
    "\n",
    "import json\n",
    "with open(\"config.json\", 'r') as f:\n",
    "    config = json.load(f)\n",
    "\n",
    "set_mpl_style()\n"
   ]
  },
  {
   "cell_type": "markdown",
   "metadata": {},
   "source": [
    "---\n",
    "# **I/O**\n",
    "## load the significant results"
   ]
  },
  {
   "cell_type": "code",
   "execution_count": null,
   "metadata": {},
   "outputs": [],
   "source": [
    "###############################################################################\n",
    "model = 'PE'\n",
    "band = 'lga'\n",
    "from_folder = f'mi/group/{model}'\n",
    "###############################################################################\n",
    "\n",
    "st = Study('PBLT')\n",
    "\n",
    "# load significance testing\n",
    "f = st.search('savgol-10.nc', band, folder=from_folder)\n",
    "assert len(f) == 1\n",
    "dt = xr.load_dataset(f[0])\n",
    "\n",
    "# load conjunction\n",
    "f = st.search('conj', band, folder=from_folder)\n",
    "assert len(f) == 1\n",
    "conj = xr.load_dataset(f[0]).to_array('cond').sel(cond=['pun', 'rew'])\n",
    "\n",
    "model = model.replace('_', ' | ')\n"
   ]
  },
  {
   "cell_type": "markdown",
   "metadata": {},
   "source": [
    "## Compute proportions"
   ]
  },
  {
   "cell_type": "code",
   "execution_count": null,
   "metadata": {},
   "outputs": [],
   "source": [
    "def atoms(x):\n",
    "    # get total number of contacts\n",
    "    n_contacts = len(x['roi'])\n",
    "\n",
    "    # find where there are significant effects\n",
    "    x_s = (x < 0.05).any('times')\n",
    "    \n",
    "    # compute proportion of task-relevant contacts\n",
    "    perc_rel = 100 * (x_s.any('cond')).sum() / n_contacts\n",
    "    \n",
    "    # infer proportion of task-irrelevant contacts\n",
    "    perc_irr = 100 - perc_rel\n",
    "    \n",
    "    # find proportion of reward specific only\n",
    "    is_rew, is_pun = x_s.sel(cond='rew'), x_s.sel(cond='pun')\n",
    "    perc_rpe = 100 * xr.concat(\n",
    "        (is_rew, ~is_pun), 'cond').all('cond').sum('roi').data / n_contacts\n",
    "    perc_ppe = 100 * xr.concat(\n",
    "        (~is_rew, is_pun), 'cond').all('cond').sum('roi').data / n_contacts\n",
    "    \n",
    "    # proportion in both\n",
    "    perc_mix = 100 * xr.concat(\n",
    "        (is_rew, is_pun), 'cond').all('cond').sum('roi').data / n_contacts\n",
    "    \n",
    "    # merge everything\n",
    "    res = xr.Dataset({\n",
    "        # 'tot_relevant': perc_rel,\n",
    "        'irrelevant': perc_irr,\n",
    "        'rpe': perc_rpe,\n",
    "        'mix': perc_mix,\n",
    "        'ppe': perc_ppe,\n",
    "    }).to_array('atoms')\n",
    "    return res\n",
    "\n",
    "proportions = conj.groupby('roi').apply(atoms)\n"
   ]
  },
  {
   "cell_type": "markdown",
   "metadata": {},
   "source": [
    "---\n",
    "# **Plotting**\n",
    "## Plotting function"
   ]
  },
  {
   "cell_type": "code",
   "execution_count": null,
   "metadata": {},
   "outputs": [],
   "source": [
    "def plot_node(name, perc, center=(0, 0), fz=22):\n",
    "    \"\"\"Nodes as donut plot.\n",
    "    \n",
    "    name : brain region name\n",
    "    perc : [perc_irrelevant, perc_rpe, perc_mix, perc_ppe]\n",
    "    \"\"\"\n",
    "    colors = ['#9999', 'C1', 'C2', 'C0']\n",
    "\n",
    "    # start angle of the task-irrelevant proportion\n",
    "    startangle = 90 - 360 * (perc[0] / 2) / 100\n",
    "    \n",
    "    # pie plot\n",
    "    patches, texts = plt.pie(\n",
    "        perc, colors=colors, startangle=startangle, wedgeprops=dict(width=0.47),\n",
    "        center=center, labels=[str(int(np.round(k))) + \"%\" for k in perc],\n",
    "        textprops=dict(color=\"w\", fontweight='bold', fontsize=16,\n",
    "                       ha='center', va='center'), labeldistance=.77\n",
    "    )\n",
    "    plt.text(\n",
    "        center[0], center[1], name, ha='center', va='center', fontsize=fz,\n",
    "        fontweight='bold', color='C3'\n",
    "    )\n",
    "\n",
    "\n",
    "# plot_node('vmPFC', [30, 40, 20, 10])\n"
   ]
  },
  {
   "cell_type": "markdown",
   "metadata": {},
   "source": [
    "## Actual plot"
   ]
  },
  {
   "cell_type": "code",
   "execution_count": null,
   "metadata": {},
   "outputs": [],
   "source": [
    "###############################################################################\n",
    "dist = 3.\n",
    "ycoef = .9\n",
    "ydelta = .12\n",
    "centers = {  # center arround 0\n",
    "    \"aINS\": (-dist, 0),\n",
    "    \"dlPFC\": (0, ycoef * dist),\n",
    "    \"vmPFC\": (0, -ycoef * dist),\n",
    "    \"lOFC\": (dist, 0)\n",
    "}\n",
    "###############################################################################\n",
    "\n",
    "\n",
    "fig = plt.figure(figsize=(10, 4))\n",
    "\n",
    "# add main nodes\n",
    "for roi, center in centers.items():\n",
    "    plot_node(roi, proportions.sel(roi=roi).data, center=center)\n",
    "\n",
    "style = \"Simple, tail_width=0.5, head_width=20, head_length=16\"\n",
    "kw = dict(arrowstyle=style, clip_on=False, lw=8)\n",
    "\n",
    "# add arrows\n",
    "a_ppe = patches.FancyArrowPatch(\n",
    "    (-dist, 1), (-1, ycoef * dist), connectionstyle=\"arc3,rad=-.3\",\n",
    "    color='C0', **kw\n",
    ")\n",
    "a_rpe = patches.FancyArrowPatch(\n",
    "    (1, -ycoef * dist), (dist, -1), connectionstyle=\"arc3,rad=.3\",\n",
    "    color='C1', **kw\n",
    ")\n",
    "a_mix = patches.FancyArrowPatch(\n",
    "    (0, -2 * ycoef + ydelta), (0, 2 * ycoef - ydelta),  # connectionstyle=\"arc3,rad=.3\",\n",
    "    color='C5', clip_on=False, lw=8, linestyle='--'\n",
    ")\n",
    "\n",
    "# add additional text\n",
    "kw_txt = dict(fontsize=24, fontweight='bold', clip_on=False, ha='center', va='center')\n",
    "plt.text(-1.8, 1.6, 'Redundancy\\nPPE', rotation=45, color='C0', **kw_txt)\n",
    "plt.text(2., -1.8, 'Redundancy\\nRPE', rotation=45, color='C1', **kw_txt)\n",
    "plt.text(0., 0, 'Synergy\\n\\nPE', rotation=90, color='C5', **kw_txt)\n",
    "\n",
    "\n",
    "plt.gca().add_patch(a_ppe)\n",
    "plt.gca().add_patch(a_rpe)\n",
    "plt.gca().add_patch(a_mix)\n",
    "\n",
    "# create the legend\n",
    "custom_leg = [\n",
    "    Patch(facecolor='C1', label='RPE-specific'),\n",
    "    Patch(facecolor='C2', label='Mix R/PPE'),\n",
    "    Patch(facecolor='C0', label='PPE-specific'),\n",
    "    Patch(facecolor='#9999', label='Task-irrelevant'),\n",
    "    # Line2D([0], [0], color=\"C0\", lw=6, solid_capstyle='round'),\n",
    "    # Line2D([0], [0], color=\"C1\", lw=6, solid_capstyle='round')\n",
    "]\n",
    "\n",
    "legend = plt.legend(\n",
    "    handles=custom_leg, ncol=2, bbox_to_anchor=(.6, -0.65),\n",
    "    fontsize=20, bbox_transform=fig.transFigure, title=\"Proportion of significant sEEG contacts over time (p<0.05)\",\n",
    "    title_fontproperties=dict(weight='bold', size=18)\n",
    ")\n"
   ]
  },
  {
   "cell_type": "code",
   "execution_count": null,
   "metadata": {},
   "outputs": [],
   "source": [
    "save_to = config['export']['save_to']\n",
    "cfg_export = config['export']['cfg']\n",
    "\n",
    "fig.savefig(f'{save_to}/fig_summary.png', **cfg_export)\n"
   ]
  },
  {
   "cell_type": "code",
   "execution_count": null,
   "metadata": {},
   "outputs": [],
   "source": []
  }
 ],
 "metadata": {
  "kernelspec": {
   "display_name": "Python 3.7.8 ('base')",
   "language": "python",
   "name": "python3"
  },
  "language_info": {
   "codemirror_mode": {
    "name": "ipython",
    "version": 3
   },
   "file_extension": ".py",
   "mimetype": "text/x-python",
   "name": "python",
   "nbconvert_exporter": "python",
   "pygments_lexer": "ipython3",
   "version": "3.9.13"
  },
  "vscode": {
   "interpreter": {
    "hash": "be1f7b27c611408e120044e54b72ddebb6ea986b85d66ed2e48481f7018406e6"
   }
  }
 },
 "nbformat": 4,
 "nbformat_minor": 2
}
