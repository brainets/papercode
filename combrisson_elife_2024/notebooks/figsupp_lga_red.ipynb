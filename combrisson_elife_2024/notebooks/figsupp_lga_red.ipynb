{
 "cells": [
  {
   "cell_type": "code",
   "execution_count": null,
   "id": "4a8b3980-c07d-417e-acf9-475df027d2f3",
   "metadata": {},
   "outputs": [],
   "source": [
    "import numpy as np\n",
    "import xarray as xr\n",
    "import pandas as pd\n",
    "\n",
    "from pathta import Study\n",
    "\n",
    "from frites import set_mpl_style\n",
    "\n",
    "import matplotlib.pyplot as plt\n",
    "import seaborn as sns\n",
    "\n",
    "from ipywidgets import interact\n",
    "\n",
    "import json\n",
    "with open(\"config.json\", 'r') as f:\n",
    "    config = json.load(f)\n",
    "\n",
    "set_mpl_style()"
   ]
  },
  {
   "cell_type": "markdown",
   "id": "95475946-66e5-408c-93df-15c7b6fad047",
   "metadata": {},
   "source": [
    "---\n",
    "# **Load the cross-frequency redundancy**"
   ]
  },
  {
   "cell_type": "code",
   "execution_count": null,
   "id": "601994df-3a17-4237-b198-b430e0ca21a5",
   "metadata": {},
   "outputs": [],
   "source": [
    "###############################################################################\n",
    "sigma = 0.001\n",
    "from_folder = 'cfi/psd-PE'\n",
    "###############################################################################\n",
    "\n",
    "st = Study('PBLT')\n",
    "\n",
    "sigma = str(float(sigma))[2:]\n",
    "\n",
    "# load reward condition\n",
    "f = st.search('-rew_', f'sigma-{sigma}.', folder=from_folder)\n",
    "assert len(f) == 1\n",
    "dt_rew = xr.load_dataset(f[0]).to_array('var')\n",
    "\n",
    "# load punishment condition\n",
    "f = st.search('-pun_', f'sigma-{sigma}.', folder=from_folder)\n",
    "assert len(f) == 1\n",
    "dt_pun = xr.load_dataset(f[0]).to_array('var')\n",
    "\n",
    "# load merged rew / pun\n",
    "f = st.search('-rewpun_', f'sigma-{sigma}.', folder=from_folder)\n",
    "assert len(f) == 1\n",
    "dt_rp = xr.load_dataset(f[0]).to_array('var')\n",
    "\n",
    "# merge conditions\n",
    "dt = xr.Dataset({'rew': dt_rew, 'pun': dt_pun}).to_array('cond')"
   ]
  },
  {
   "cell_type": "markdown",
   "id": "b00b4c85-b7b8-4db2-9351-9c32be91c27e",
   "metadata": {},
   "source": [
    "---\n",
    "# **Create the figure**"
   ]
  },
  {
   "cell_type": "code",
   "execution_count": null,
   "id": "9fd0781c-5c12-415e-98c1-b8bf33c0d2a8",
   "metadata": {},
   "outputs": [],
   "source": [
    "###############################################################################\n",
    "es = 'mi'\n",
    "kw_text = dict(rotation=90, fontsize=20, fontweight='bold', va='center',\n",
    "               color='#555555')\n",
    "###############################################################################\n",
    "\n",
    "fig, axs = plt.subplots(\n",
    "    nrows=2, ncols=4, sharex=True, sharey=True, figsize=(15.5, 7)\n",
    ")\n",
    "# fig.suptitle(f\"Text ({})\", fontsize=20, fontweight='bold')\n",
    "\n",
    "for n_r, r in enumerate(np.sort(dt['roi'].data)):\n",
    "    dt_r = dt.sel(var=es, roi=r)\n",
    "    vmin, vmax = np.nanpercentile(dt_r.data, 5), np.nanpercentile(dt_r.data, 99)\n",
    "    # vmin, vmax = 2., 6.\n",
    "\n",
    "    for n_c, c in enumerate(['rew', 'pun']):\n",
    "        plt.sca(axs[n_c, n_r])\n",
    "        _es = dt_r.sel(cond=c)\n",
    "        _pv = dt.sel(var='pv', cond=c, roi=r)\n",
    "        # _es.data[_pv.data >= 0.05] = np.nan\n",
    "        \n",
    "        df_es = _es.to_pandas()\n",
    "        df_pv = _pv.to_pandas()\n",
    "        xvec = df_es.columns\n",
    "        yvec = df_es.index\n",
    "        \n",
    "        plt.grid(False)\n",
    "        im = plt.pcolormesh(df_es.columns, df_es.index, df_es.values,\n",
    "                            cmap='Spectral_r', vmin=vmin, vmax=vmax)\n",
    "\n",
    "        # if df_pv.values.min() <= 0.05:\n",
    "        #     plt.contour(df_pv.values, origin='upper', extent=[xvec[0], xvec[-1], yvec[-1], yvec[0]],\n",
    "        #                 levels=[0.05], colors=['k'])\n",
    "        \n",
    "        if n_c == 0: plt.title(r, fontweight='bold', color='#555555')\n",
    "        if n_c == 1: plt.xlabel('Frequency (Hz)')\n",
    "        if n_r == 0: plt.ylabel('Frequency (Hz)')\n",
    "        if (n_c == 0) and (n_r == 0):\n",
    "            plt.figtext(-0.02, .75, 'RPE', **kw_text)\n",
    "        if (n_c == 0) and (n_r == 0):\n",
    "            plt.figtext(-0.02, .3, 'PPE', **kw_text)\n",
    "        \n",
    "        for v in [100, 150]:\n",
    "            plt.axvline(v, lw=2, color='w', linestyle='--')\n",
    "            plt.axhline(v, lw=2, color='w', linestyle='--')\n",
    "plt.tight_layout()\n",
    "\n",
    "# add the colorbar\n",
    "fig.subplots_adjust(right=0.8)\n",
    "cbar_ax = fig.add_axes([0.82, 0.3, 0.025, 0.4])\n",
    "cbar = fig.colorbar(im, cax=cbar_ax)\n",
    "# cbar.set_label('T-values')\n",
    "# cbar.ax.set_yticks(np.arange(vmin, vmax + 1).astype(int));"
   ]
  },
  {
   "cell_type": "markdown",
   "id": "e998569a-dc8e-44aa-9725-cd9a0eafdcfe",
   "metadata": {},
   "source": [
    "# **Export the figure**"
   ]
  },
  {
   "cell_type": "code",
   "execution_count": null,
   "id": "c3aa0b48-7939-4f7b-af2f-97b30d2aba5c",
   "metadata": {},
   "outputs": [],
   "source": [
    "save_to = config['export']['save_to']\n",
    "cfg_export = config['export']['cfg']\n",
    "\n",
    "fig.savefig(f'{save_to}/supp_gamma_red.png', **cfg_export)"
   ]
  },
  {
   "cell_type": "code",
   "execution_count": null,
   "id": "d801e908-5103-49c1-9b0d-7a6359309c9d",
   "metadata": {},
   "outputs": [],
   "source": [
    "str(int(1000 * 0.01))"
   ]
  },
  {
   "cell_type": "code",
   "execution_count": null,
   "id": "ce7dc6fb-be7e-4d0b-b1ac-60800d0f9a16",
   "metadata": {},
   "outputs": [],
   "source": [
    "(dt_rew.sel(var='pv') < 0.05).plot(x='f_start', y='f_end', col='roi')"
   ]
  }
 ],
 "metadata": {
  "kernelspec": {
   "display_name": "Python 3.7.8 ('base')",
   "language": "python",
   "name": "python3"
  },
  "language_info": {
   "codemirror_mode": {
    "name": "ipython",
    "version": 3
   },
   "file_extension": ".py",
   "mimetype": "text/x-python",
   "name": "python",
   "nbconvert_exporter": "python",
   "pygments_lexer": "ipython3",
   "version": "3.9.13"
  },
  "vscode": {
   "interpreter": {
    "hash": "be1f7b27c611408e120044e54b72ddebb6ea986b85d66ed2e48481f7018406e6"
   }
  }
 },
 "nbformat": 4,
 "nbformat_minor": 5
}
