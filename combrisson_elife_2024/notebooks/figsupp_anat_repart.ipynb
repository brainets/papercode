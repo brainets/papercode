{
 "cells": [
  {
   "cell_type": "code",
   "execution_count": null,
   "metadata": {},
   "outputs": [],
   "source": [
    "import numpy as np\n",
    "import xarray as xr\n",
    "import pandas as pd\n",
    "\n",
    "from pathta import Study\n",
    "\n",
    "from frites import set_mpl_style\n",
    "from research.study.pblt import get_anat_table\n",
    "from frites.utils import nonsorted_unique\n",
    "\n",
    "import matplotlib.pyplot as plt\n",
    "from matplotlib.lines import Line2D\n",
    "from nilearn import plotting\n",
    "import seaborn as sns\n",
    "\n",
    "set_mpl_style()\n",
    "import json\n",
    "with open(\"config.json\", 'r') as f:\n",
    "    config = json.load(f)"
   ]
  },
  {
   "cell_type": "markdown",
   "metadata": {},
   "source": [
    "---\n",
    "# **I/O**\n",
    "## load the significant results"
   ]
  },
  {
   "cell_type": "code",
   "execution_count": null,
   "metadata": {},
   "outputs": [],
   "source": [
    "###############################################################################\n",
    "model = 'PE'\n",
    "use_roi = ['aINS', 'dlPFC', 'vmPFC', 'lOFC']\n",
    "band = 'lga'\n",
    "from_folder = f'mi/group/{model}'\n",
    "###############################################################################\n",
    "\n",
    "st = Study('PBLT')\n",
    "\n",
    "# load significance testing\n",
    "f = st.search('savgol-10.nc', band, folder=from_folder)\n",
    "assert len(f) == 1\n",
    "dt = xr.load_dataset(f[0])\n",
    "\n",
    "# load conjunction\n",
    "f = st.search('conj', band, folder=from_folder)\n",
    "assert len(f) == 1\n",
    "conj = xr.load_dataset(f[0]).to_array('cond').sel(cond=['pun', 'rew'])\n",
    "\n",
    "model = model.replace('_', ' | ')\n",
    "\n",
    "# load (x, y, z) coordinates\n",
    "subjects = list(st.load_config('subjects.json').keys()) \n",
    "anat = []\n",
    "for s in subjects:\n",
    "    # load the bad channels\n",
    "    bad_ch = st.search(s, folder='bad_channels', load=True)['ch_names']\n",
    "    \n",
    "    # load the anatomy\n",
    "    _df = get_anat_table(s)\n",
    "    keep = [c not in bad_ch for c in _df['contact'].values]\n",
    "    _df = _df.iloc[keep, :]\n",
    "    \n",
    "    # keep only the important brain regions\n",
    "    keep = [r in use_roi for r in _df['ma_checked'].values]\n",
    "    _df = _df.iloc[keep, :]\n",
    "    if not len(_df): continue\n",
    "    \n",
    "    _df['subject'] = s\n",
    "    \n",
    "    anat.append(_df)\n",
    "anat = pd.concat(anat).reset_index(drop=True)\n",
    "\n",
    "# reorder the anat table\n",
    "u_roi = nonsorted_unique(conj['roi'].data)\n",
    "\n",
    "anat_n = []\n",
    "for r in u_roi:\n",
    "    anat_n.append(anat.set_index('ma_checked').loc[r].reset_index())\n",
    "anat = pd.concat(anat_n).reset_index(drop=True)\n",
    "\n",
    "np.testing.assert_array_equal(\n",
    "    conj['roi'].data, anat['ma_checked'].values\n",
    ")"
   ]
  },
  {
   "cell_type": "markdown",
   "metadata": {},
   "source": [
    "## Compute proportions"
   ]
  },
  {
   "cell_type": "code",
   "execution_count": null,
   "metadata": {},
   "outputs": [],
   "source": [
    "conj_bin = (conj < 0.05).any('times')\n",
    "is_rew, is_pun = conj_bin.sel(cond='rew'), conj_bin.sel(cond='pun')\n",
    "\n",
    "# pure reward / punishment\n",
    "rew = xr.concat((is_rew, ~is_pun), 'cond').all('cond').data\n",
    "pun = xr.concat((~is_rew, is_pun), 'cond').all('cond').data\n",
    "rewpun = xr.concat((is_rew, is_pun), 'cond').all('cond').data\n",
    "\n",
    "# get role\n",
    "role = ['None'] * len(rew)\n",
    "for k in range(len(role)):\n",
    "    if rewpun[k]:\n",
    "        role[k] = 'R/PPE'\n",
    "    elif rew[k]:\n",
    "        role[k] = 'RPE'\n",
    "    elif pun[k]:\n",
    "        role[k] = 'PPE'\n",
    "# role\n",
    "\n",
    "# fill the anat table with roles and colors\n",
    "anat_sub = anat[['contact', 'X', 'Y', 'Z', 'subject', 'ma_checked']].copy()\n",
    "anat_sub['abs_X'] = np.abs(anat_sub['X'])\n",
    "anat_sub['role'] = role\n",
    "anat_sub['color'] = anat_sub['role'].replace({\n",
    "    'RPE': '#348ABD',\n",
    "    'PPE': '#E24A33',\n",
    "    'R/PPE': '#2ECC71',\n",
    "    'None': '#999999'\n",
    "})\n",
    "# anat_sub\n"
   ]
  },
  {
   "cell_type": "code",
   "execution_count": null,
   "metadata": {},
   "outputs": [],
   "source": [
    "def gp_fcn(x):\n",
    "    n_contacts = len(x)\n",
    "    prop = np.round(100 * x.groupby('role').size() / n_contacts, 2).reset_index().rename(columns={0: 'perc'})\n",
    "    return prop\n",
    "    # prop[0] = 'perc'\n",
    "    print(prop)\n",
    "    0/0\n",
    "\n",
    "anat_sub.groupby('ma_checked').apply(gp_fcn)\n"
   ]
  },
  {
   "cell_type": "markdown",
   "metadata": {},
   "source": [
    "---\n",
    "# **Plot**\n",
    "## Nilearn glass brain plotting"
   ]
  },
  {
   "cell_type": "code",
   "execution_count": null,
   "metadata": {},
   "outputs": [],
   "source": [
    "###############################################################################\n",
    "use_roi = ['aINS', 'dlPFC', 'lOFC', 'vmPFC']\n",
    "# use_roi = ['aINS']\n",
    "# use_roi = ['vmPFC', 'lOFC']\n",
    "# use_roi = ['dlPFC']\n",
    "# use_roi = ['dlPFC', 'lOFC', 'vmPFC']\n",
    "# use_roi = ['dlPFC', 'lOFC', 'vmPFC', 'aINS']\n",
    "###############################################################################\n",
    "\n",
    "fig = plt.figure(figsize=(20, 10))\n",
    "display = plotting.plot_glass_brain(\n",
    "    None, display_mode='lzry', figure=fig, axes=(0., .2, 1., .8), title=None\n",
    "    # None, display_mode='ortho', figure=fig, axes=(0., .2, 1., .8)\n",
    ")\n",
    "\n",
    "\n",
    "anat_plt = anat_sub.set_index('ma_checked').loc[use_roi]\n",
    "roles = anat_plt['role']\n",
    "xyz = anat_plt[['X', 'Y', 'Z']].values\n",
    "plt_cfg = {\n",
    "    'RPE': {\n",
    "        'size': 70,\n",
    "        'color': '#348ABD'\n",
    "    },\n",
    "    'PPE': {\n",
    "        'size': 70,\n",
    "        'color': '#E24A33'\n",
    "    },\n",
    "    'R/PPE': {\n",
    "        'size': 70,\n",
    "        'color': '#2ECC71'\n",
    "    },\n",
    "    'None': {\n",
    "        'size': 0,\n",
    "        'color': '#999999'\n",
    "    }\n",
    "}\n",
    "\n",
    "for cond in ['RPE', 'PPE', 'R/PPE', 'None']:\n",
    "    print(cond, len(xyz[roles == cond, :].tolist()))\n",
    "    display.add_markers(\n",
    "        xyz[roles == cond, :].tolist(), marker_color=plt_cfg[cond]['color'],\n",
    "        marker_size=plt_cfg[cond]['size']\n",
    "    )\n",
    "\n",
    "# create the legend\n",
    "kw_lines = dict(marker='o', color='w', markersize=15)\n",
    "custom_lines = [\n",
    "    Line2D([0], [0], markerfacecolor=\"C1\", **kw_lines),\n",
    "    Line2D([0], [0], markerfacecolor=\"C0\", **kw_lines),\n",
    "    Line2D([0], [0], markerfacecolor=\"C5\", **kw_lines)\n",
    "]\n",
    "titles = [\"RPE specific\", \"PPE specific\", \"R/PPE\"]\n",
    "plt.legend(\n",
    "    custom_lines, titles, ncol=3, bbox_to_anchor=(.7, 0.25), fontsize=20,\n",
    "    bbox_transform=fig.transFigure, title=\"Significant sEEG contacts (p<0.05)\",\n",
    "    title_fontproperties=dict(weight='bold', size=20)\n",
    ");\n"
   ]
  },
  {
   "cell_type": "markdown",
   "metadata": {},
   "source": [
    "## Export the figure"
   ]
  },
  {
   "cell_type": "code",
   "execution_count": null,
   "metadata": {},
   "outputs": [],
   "source": [
    "save_to = config['export']['save_to']\n",
    "cfg_export = config['export']['cfg']\n",
    "\n",
    "fig.savefig(f'{save_to}/supp_anat_repartition.png', **cfg_export)\n"
   ]
  },
  {
   "cell_type": "code",
   "execution_count": null,
   "metadata": {},
   "outputs": [],
   "source": [
    "4 * 1500 / 100"
   ]
  }
 ],
 "metadata": {
  "kernelspec": {
   "display_name": "Python 3.7.8 ('base')",
   "language": "python",
   "name": "python3"
  },
  "language_info": {
   "codemirror_mode": {
    "name": "ipython",
    "version": 3
   },
   "file_extension": ".py",
   "mimetype": "text/x-python",
   "name": "python",
   "nbconvert_exporter": "python",
   "pygments_lexer": "ipython3",
   "version": "3.9.13 (main, Aug 25 2022, 23:26:10) \n[GCC 11.2.0]"
  },
  "vscode": {
   "interpreter": {
    "hash": "be1f7b27c611408e120044e54b72ddebb6ea986b85d66ed2e48481f7018406e6"
   }
  }
 },
 "nbformat": 4,
 "nbformat_minor": 2
}
