{
 "cells": [
  {
   "cell_type": "code",
   "execution_count": null,
   "metadata": {},
   "outputs": [],
   "source": [
    "import numpy as np\n",
    "import xarray as xr\n",
    "import pandas as pd\n",
    "\n",
    "from pathta import Study\n",
    "\n",
    "from frites import set_mpl_style\n",
    "from frites.stats import confidence_interval\n",
    "\n",
    "import matplotlib.pyplot as plt\n",
    "import seaborn as sns\n",
    "\n",
    "from ipywidgets import interact\n",
    "\n",
    "import json\n",
    "with open(\"config.json\", 'r') as f:\n",
    "    config = json.load(f)\n",
    "\n",
    "set_mpl_style()\n",
    "\n",
    "plt.rcParams['xtick.labelsize'] = 'xx-large'\n",
    "plt.rcParams['ytick.labelsize'] = 'xx-large'\n",
    "plt.rcParams['axes.titlesize'] = 23\n",
    "plt.rcParams['axes.labelsize'] = 22"
   ]
  },
  {
   "cell_type": "code",
   "execution_count": null,
   "metadata": {},
   "outputs": [],
   "source": [
    "###############################################################################\n",
    "band = 'lga'\n",
    "from_folder = f'pow/{band}/st-av'\n",
    "###############################################################################\n",
    "\n",
    "st = Study('PBLT')\n",
    "subjects = list(st.load_config('subjects.json').keys())\n",
    "\n",
    "pow = []\n",
    "for s in subjects:\n",
    "    f = st.search(s, folder=from_folder)\n",
    "    if not len(f): continue\n",
    "    \n",
    "    pow.append(xr.load_dataarray(f[0]))\n",
    "\n",
    "pow = xr.concat(pow, 'roi').rename(trials='Condition').sel(Condition=['rew', 'pun'])"
   ]
  },
  {
   "cell_type": "code",
   "execution_count": null,
   "metadata": {},
   "outputs": [],
   "source": [
    "###############################################################################\n",
    "cil = 'sem'\n",
    "###############################################################################\n",
    "\n",
    "titles = {\n",
    "    'rew': 'Rewarding',\n",
    "    'pun': 'Punishing',\n",
    "}\n",
    "\n",
    "# groupby roi\n",
    "pow_gp = pow.groupby('roi')\n",
    "\n",
    "# compute mean power\n",
    "pow_m = pow_gp.mean()\n",
    "\n",
    "# compute ci\n",
    "def compute_ci(x):\n",
    "    return confidence_interval(\n",
    "        x, axis='roi', random_state=0, cis=cil).squeeze()\n",
    "ci = pow_gp.apply(compute_ci)\n",
    "\n",
    "# plot the results\n",
    "fg = pow_m.plot(x='times', col='Condition', hue='roi', size=6)\n",
    "fig = plt.gcf()\n",
    "_ = [ax.axvline(0., color='C3') for ax in np.ravel(fg.axes)]\n",
    "\n",
    "for n_c, cond in enumerate(pow['Condition'].data):\n",
    "    plt.sca(np.ravel(fg.axes)[n_c])\n",
    "    plt.xlabel('Times (s)')\n",
    "    if n_c == 0:\n",
    "        plt.ylabel(\"Relative gamma power\")\n",
    "    plt.title(f\"{titles[cond]} condition\", fontweight='bold')\n",
    "    ci_c = ci.sel(Condition=cond)\n",
    "    \n",
    "    for n_r, r in enumerate(ci_c['roi'].data):\n",
    "        ci_cr = ci_c.sel(roi=r)\n",
    "        plt.fill_between(\n",
    "            ci_cr['times'].data,\n",
    "            ci_cr.sel(bound='low').data, ci_cr.sel(bound='high').data,\n",
    "            color=f'C{n_r}', alpha=.1, zorder=61\n",
    "        )\n"
   ]
  },
  {
   "cell_type": "code",
   "execution_count": null,
   "metadata": {},
   "outputs": [],
   "source": [
    "save_to = config['export']['save_to']\n",
    "cfg_export = config['export']['cfg']\n",
    "\n",
    "fig.savefig(f'{save_to}/fig_gamma_pow.png', **cfg_export)"
   ]
  }
 ],
 "metadata": {
  "kernelspec": {
   "display_name": "Python 3.7.8 ('base')",
   "language": "python",
   "name": "python3"
  },
  "language_info": {
   "codemirror_mode": {
    "name": "ipython",
    "version": 3
   },
   "file_extension": ".py",
   "mimetype": "text/x-python",
   "name": "python",
   "nbconvert_exporter": "python",
   "pygments_lexer": "ipython3",
   "version": "3.7.8"
  },
  "vscode": {
   "interpreter": {
    "hash": "be1f7b27c611408e120044e54b72ddebb6ea986b85d66ed2e48481f7018406e6"
   }
  }
 },
 "nbformat": 4,
 "nbformat_minor": 2
}
